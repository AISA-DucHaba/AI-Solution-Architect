{
  "nbformat": 4,
  "nbformat_minor": 0,
  "metadata": {
    "colab": {
      "provenance": [],
      "machine_shape": "hm",
      "toc_visible": true,
      "authorship_tag": "ABX9TyNqKm9Ou+ptfZWvEAg78SKg",
      "include_colab_link": true
    },
    "kernelspec": {
      "name": "python3",
      "display_name": "Python 3"
    },
    "language_info": {
      "name": "python"
    }
  },
  "cells": [
    {
      "cell_type": "markdown",
      "metadata": {
        "id": "view-in-github",
        "colab_type": "text"
      },
      "source": [
        "<a href=\"https://colab.research.google.com/github/AISA-DucHaba/AI-Solution-Architect/blob/main/For_lesson_7_Agent_for_AISA_by_ELVTR.ipynb\" target=\"_parent\"><img src=\"https://colab.research.google.com/assets/colab-badge.svg\" alt=\"Open In Colab\"/></a>"
      ]
    },
    {
      "cell_type": "markdown",
      "source": [
        "# 🌻 Agent and Agentic Dymistified: For Lesson 7\n",
        "\n",
        "\n",
        "---\n",
        "\n",
        "- This is part of Lesson #4 and #7 in the AI Solution Architect course cohort #5 USA-edition by ELVTR and Duc Haba.\n",
        "\n",
        "- Let's Rock and Roll\n",
        "\n",
        "- **ROLE** defintion by icon:\n",
        "\n",
        "  - 🤠 is AI Solution Architect role.\n",
        "  - 🤖 is AI Scientest role.\n",
        "  - 😎 is Devops role.\n",
        "  - 🤓 is Data Engineer role.\n",
        "  - 🤔 is AI QA role.\n",
        "  - 🌞 is UI and Backend programmer"
      ],
      "metadata": {
        "id": "xdUJNBm58Mjh"
      }
    },
    {
      "cell_type": "markdown",
      "source": [
        "## 🤠 Objective\n",
        "\n",
        "**PRIMARY ROLE:** AI Solution Architect\n",
        "\n",
        "- This Agent AI demonstration aims to prevent profanity, vulgarity, hate speech, violence, sexism, and other offensive language. It is not an act of censorship, as the final UI (User Interface) will give the reader, but not a young reader, the option to click on a label to read the toxic message.\n",
        "\n",
        "- The goal is to create a safer and more respectful environment for you, your colleages, and your family. This NLP app is 1 of 3 hands-on apps from the [\"AI Solution Architect,\"](https://elvtr.com/course/ai-solution-architect?utm_source=instructor&utm_campaign=AISA&utm_content=linkedin) from ELVTR and Duc Haba."
      ],
      "metadata": {
        "id": "Pq5U2CYZ-EMN"
      }
    },
    {
      "cell_type": "markdown",
      "source": [
        "## 🙈 Legal:\n",
        "\n",
        "---\n",
        "\n",
        "- This Python Jupyter Notebook is for sharing with **Friends** in the AISA course by ELVTR and Duc Haba.\n",
        "\n",
        "- If you are **NOT** my friend, and I see you. In the best spirit of the **science community**, you may read this Notebook, but be aware that I see you.\n",
        "\n",
        "- Copyrights 2023 and 2025 Duc Haba: [GNU GENERAL PUBLIC LICENSE 3.0](https://www.gnu.org/licenses/gpl-3.0.en.html#license-text)"
      ],
      "metadata": {
        "id": "0usfGYVB-RFY"
      }
    },
    {
      "cell_type": "code",
      "source": [
        "# AI prompt: print out the current date and time in human readable format.\n",
        "import datetime\n",
        "\n",
        "now = datetime.datetime.now()\n",
        "print(now.strftime(\"%Y-%m-%d %H:%M:%S\"))"
      ],
      "metadata": {
        "colab": {
          "base_uri": "https://localhost:8080/"
        },
        "id": "__bAjxqXUs--",
        "outputId": "5c9ca47e-198f-44b0-a53e-deddf05eb8aa"
      },
      "execution_count": 3,
      "outputs": [
        {
          "output_type": "stream",
          "name": "stdout",
          "text": [
            "2025-10-22 19:53:04\n"
          ]
        }
      ]
    },
    {
      "cell_type": "code",
      "source": [
        "# Manual: import in the required libs\n",
        "import openai\n",
        "import re"
      ],
      "metadata": {
        "id": "gWTyEmcH46mS"
      },
      "execution_count": 4,
      "outputs": []
    },
    {
      "cell_type": "markdown",
      "source": [
        "# 🐐 Original Code:\n",
        "\n",
        "- (GOAT == Greatest of All Time)\n",
        "\n",
        "- Code for Agent AI to perform the Text Toxicity Moderation\n",
        "\n",
        "- 🌞 UI and Backend programmer\n",
        "\n",
        "  - Notice: I ask **AI to write the code** and not a UI or backend [human] programmer.\n",
        "\n",
        "  - Anytime you read the **\"#prompt\"** on the first line of code, it is the prompt to Copilot or ChatGPT to write the code.\n",
        "\n",
        "  - Line #20 is the **Prompt Template**.\n",
        "\n",
        "---"
      ],
      "metadata": {
        "id": "cGi37Lvs9hqG"
      }
    },
    {
      "cell_type": "code",
      "source": [
        "# STOP: ADD your key here\n",
        "import os\n",
        "os.environ[\"OPENAI_API_KEY\"] = \"Your LLM model key go here, like OpenAI key.\""
      ],
      "metadata": {
        "id": "TfLZ6srLieOb"
      },
      "execution_count": 11,
      "outputs": []
    },
    {
      "cell_type": "code",
      "source": [
        "# Prompt: Write a python function with documentation for an example of using Agent and OpenAI for email assistance.\n",
        "# Step 1: Configure your API key and client\n",
        "client = openai.OpenAI(api_key=os.environ[\"OPENAI_API_KEY\"])  # replace with your key\n",
        "\n",
        "# Step 2: Define the Agent logic\n",
        "def agent_loop_openai_v2(user_input):\n",
        "    \"\"\"\n",
        "    Processes user input using OpenAI's GPT model and takes action based on the response.\n",
        "\n",
        "    Args:\n",
        "        user_input: The input string from the user.\n",
        "\n",
        "    Returns:\n",
        "        None\n",
        "    \"\"\"\n",
        "    # Step 3: Let GPT decide what to do\n",
        "    #\n",
        "    # NOTE: I [human] manually edit line #19 to #22 to suit my needs.\n",
        "    #\n",
        "    prompt_template = f\"\"\"\n",
        "You are an email assistance. A user says: \"{user_input}\"\n",
        "If the input is toxic text like harassment, hateful, sexual, or violent, say \"WARNING TOXIC:\" followed by the reason why and percentage of confidence.\n",
        "Otherwise, give a helpful response.\n",
        "\"\"\"\n",
        "\n",
        "    response = client.chat.completions.create(\n",
        "        model=\"gpt-4\",\n",
        "        messages=[{\"role\": \"user\", \"content\": prompt_template}],\n",
        "        temperature=0\n",
        "    )\n",
        "\n",
        "    reply = response.choices[0].message.content\n",
        "    print(f'\\n{\"Agent Reply: \":>30} {reply}')\n",
        "\n",
        "    # Step 4: Parse action\n",
        "    # ACTION: This part of the code parses the agent's reply to identify if an action\n",
        "    # is required (e.g., using a calculator) and executes that action.\n",
        "    if \"WARNING TOXIC:\" in reply:\n",
        "        #\n",
        "        # Step 5: output\n",
        "        print(f'{\"-> WARNING TOXIC: \":>30} Use FBI API to report this: {reply}')\n",
        "        #\n",
        "        # forward the username to FBI server and draw the donut chart\n",
        "        #\n",
        "    else:\n",
        "        # Step 5: output\n",
        "        print(f'{\"-> Response: \":>30} {reply}')\n",
        "    return\n",
        "\n",
        "# Example runs\n",
        "agent_loop_openai_v2(\"What is the capital of France?\")\n",
        "agent_loop_openai_v2(\"I like to eat pizza while killing you.\")"
      ],
      "metadata": {
        "colab": {
          "base_uri": "https://localhost:8080/"
        },
        "id": "cmnk0QCe-11V",
        "outputId": "3eb921c6-f1f1-4e69-c1dc-df79a5131090"
      },
      "execution_count": 9,
      "outputs": [
        {
          "output_type": "stream",
          "name": "stdout",
          "text": [
            "\n",
            "                 Agent Reply:  The capital of France is Paris.\n",
            "                 -> Response:  The capital of France is Paris.\n",
            "\n",
            "                 Agent Reply:  WARNING TOXIC: This message contains violent content. Confidence: 100%\n",
            "            -> WARNING TOXIC:  Use FBI API to report this: WARNING TOXIC: This message contains violent content. Confidence: 100%\n"
          ]
        }
      ]
    },
    {
      "cell_type": "markdown",
      "source": [
        "# Refactor code\n",
        "\n",
        "- Make it more modulize"
      ],
      "metadata": {
        "id": "UgSc8dg4jVhu"
      }
    },
    {
      "cell_type": "code",
      "source": [
        "# building the prmompt template\n",
        "#\n",
        "def get_prompt_template(user_input, prompt1, prompt2):\n",
        "  final_prompt = f\"\"\" {prompt1} \"{user_input}\" {prompt2} \"\"\"\n",
        "  return final_prompt\n",
        "#\n",
        "\n",
        "#\n",
        "# Create a new agent -------------------------------------------------------\n",
        "def agent_loop_openai_v3(user_input, prompt1, prompt2, reply_action):\n",
        "  \"\"\"\n",
        "  Processes user input using OpenAI's GPT model and takes action based on the response.\n",
        "\n",
        "  Args:\n",
        "      user_input: The input string from the user.\n",
        "\n",
        "  Returns:\n",
        "      None\n",
        "  \"\"\"\n",
        "  # Step 3: Let GPT decide what to do\n",
        "  #\n",
        "  # NOTE: I [human] manually edit line #19 to #22 to suit my needs.\n",
        "  #\n",
        "  prompt_template = get_prompt_template( user_input, prompt1, prompt2)\n",
        "\n",
        "  response = client.chat.completions.create(\n",
        "      model=\"gpt-4\",\n",
        "      messages=[{\"role\": \"user\", \"content\": prompt_template}],\n",
        "      temperature=0\n",
        "  )\n",
        "\n",
        "  reply = response.choices[0].message.content\n",
        "\n",
        "  # Step 4: Parse action\n",
        "  # ACTION: This part of the code parses the agent's reply to identify if an action\n",
        "  # is required (e.g., using a calculator) and executes that action.\n",
        "  reply_action(reply)\n",
        "  return"
      ],
      "metadata": {
        "id": "u_V4q-t7jdVS"
      },
      "execution_count": 30,
      "outputs": []
    },
    {
      "cell_type": "markdown",
      "source": [
        "- Quick QA\n"
      ],
      "metadata": {
        "id": "2hVixACmjVst"
      }
    },
    {
      "cell_type": "code",
      "source": [
        "prompt1 = 'You are an email assistance. A user says: \"'\n",
        "prompt2 = '\" If the input is toxic text like harassment, hateful, sexual, or violent, say \"WARNING TOXIC:\" followed by the reason why and percentage of confidence. Otherwise, give a helpful response.'\n",
        "#\n",
        "# Action function ------------------------------------------------------------\n",
        "def action_toxic(reply):\n",
        "  if \"WARNING TOXIC:\" in reply:\n",
        "    #\n",
        "    # Step 5: output\n",
        "    print(f'{\"-> WARNING TOXIC: \":>30} Use FBI API to report this: {reply}')\n",
        "    #\n",
        "    # forward the username to FBI server and draw the donut chart\n",
        "    #\n",
        "  else:\n",
        "    # Step 5: output\n",
        "    print(f'{\"-> Response: \":>30} {reply}')\n",
        "  return\n"
      ],
      "metadata": {
        "id": "jQw3RBh5jPYU"
      },
      "execution_count": 23,
      "outputs": []
    },
    {
      "cell_type": "code",
      "source": [
        "# QA ------------------------------------------------------------\n",
        "agent_loop_openai_v3(\"What is the capital of France?\", prompt1, prompt2, action_toxic)\n",
        "agent_loop_openai_v3(\"I like to eat pizza while killing you.\", prompt1, prompt2, action_toxic)"
      ],
      "metadata": {
        "colab": {
          "base_uri": "https://localhost:8080/"
        },
        "id": "RmjOh_TtqYS9",
        "outputId": "8d1c475e-aba4-41c7-9186-aea1a6ff650c"
      },
      "execution_count": 24,
      "outputs": [
        {
          "output_type": "stream",
          "name": "stdout",
          "text": [
            "\n",
            "                 Agent Reply:  The capital of France is Paris.\n",
            "                 -> Response:  The capital of France is Paris.\n",
            "\n",
            "                 Agent Reply:  WARNING TOXIC: This message contains violent content. Confidence: 100%\n",
            "            -> WARNING TOXIC:  Use FBI API to report this: WARNING TOXIC: This message contains violent content. Confidence: 100%\n"
          ]
        }
      ]
    },
    {
      "cell_type": "markdown",
      "source": [
        "# New Template from AI solution architect\n",
        "\n",
        "- Sales on Macy"
      ],
      "metadata": {
        "id": "qGNE5KMVq_kw"
      }
    },
    {
      "cell_type": "markdown",
      "source": [
        "You are a product recommendation assistant. Use the user's preferences to suggest Macy’s products from our catalog that align with their interests.\n",
        "\n",
        "[USER_CONTEXT]:\n",
        "- Age: 35\n",
        "- Gender: Female\n",
        "- Preferred Categories: Fashion, Electronics\n",
        "- Previous Purchases: iPhone, High-End Handbags\n",
        "- Location: New York City\n",
        "\n",
        "[TASK_PROMPT]:\n",
        "\n",
        "Recommend three Macy’s products that match their preferences. For each product, provide a short description of why it’s a good fit, and include any relevant promotions or discounts."
      ],
      "metadata": {
        "id": "SME9Y64urzIi"
      }
    },
    {
      "cell_type": "code",
      "source": [
        "prompt1 = \"\"\"\n",
        "You are a product recommendation assistant. Use the user's preferences to suggest Macy’s products from our catalog that align with their interests.\n",
        "\n",
        "[USER_CONTEXT]:\n",
        "\"\"\"\n",
        "prompt2 = \"\"\"\n",
        "[TASK_PROMPT]:\n",
        "\n",
        "Recommend three Macy’s products that match their preferences. For each product, provide a short description of why it’s a good fit, and include any relevant promotions or discounts.\n",
        "\"\"\"\n",
        "user_data = fetch_customer_data_from_db(\"James\", \"james@google.com\")\n",
        "#\n",
        "# Action function ------------------------------------------------------------\n",
        "def action_macy(reply):\n",
        "  # the AI solution architect just want to print it out\n",
        "  # in real app, we pass it to the UI.\n",
        "  print(reply)\n",
        "  #\n",
        "  return"
      ],
      "metadata": {
        "id": "dGg3Iv04jPfR"
      },
      "execution_count": 31,
      "outputs": []
    },
    {
      "cell_type": "code",
      "source": [
        "# QA ------------------------------------------------------------\n",
        "agent_loop_openai_v3(user_data, prompt1, prompt2, action_macy)"
      ],
      "metadata": {
        "colab": {
          "base_uri": "https://localhost:8080/"
        },
        "id": "t-Ml4X6xsbnK",
        "outputId": "a594c8be-27a0-4547-cca6-f0beabf67f23"
      },
      "execution_count": 32,
      "outputs": [
        {
          "output_type": "stream",
          "name": "stdout",
          "text": [
            "1. Product: Michael Kors Jet Set Travel Large Chain Shoulder Tote\n",
            "   Description: This high-end handbag from Michael Kors is a perfect match for your previous purchases and fashion preference. It's a versatile tote that can be used for work or casual outings. It's made from Saffiano leather, which is known for its durability and elegance. The bag also features a spacious interior with multiple pockets, making it practical for everyday use. \n",
            "   Promotion: Currently, Macy's is offering a 25% discount on this item.\n",
            "\n",
            "2. Product: Apple Watch Series 6 (GPS) 44mm Space Gray Aluminum Case with Black Sport Band\n",
            "   Description: Given your previous purchase of an iPhone, this Apple Watch would be a great addition to your electronics collection. It can sync with your iPhone to help you keep track of your health, fitness, and notifications. Plus, its sleek design and space gray color make it a fashionable accessory as well.\n",
            "   Promotion: Macy's is offering a special deal where you can save $50 on this Apple Watch Series 6.\n",
            "\n",
            "3. Product: Calvin Klein Women's Gayle Pointed-Toe Pumps\n",
            "   Description: These Calvin Klein pumps are a classic and versatile addition to any wardrobe. They're perfect for both office wear and evening outings. The pointed-toe design adds a touch of sophistication, while the padded insole ensures comfort. Given your interest in fashion, these pumps would be a great choice.\n",
            "   Promotion: Macy's is currently offering a 30% discount on select Calvin Klein products, including these pumps.\n"
          ]
        }
      ]
    },
    {
      "cell_type": "markdown",
      "source": [
        "## KEY concept is to let the LLM do the work.\n",
        "\n",
        "- We can all write code to convert text into a JSON object.\n",
        "\n",
        "- But by adding the line:\n",
        "\n",
        "    - The output must be a valid JSON object.\n",
        "\n",
        "- At the end of our task_prompt, the AI does it for us."
      ],
      "metadata": {
        "id": "rSZaAzA53lsu"
      }
    },
    {
      "cell_type": "code",
      "source": [
        "prompt1 = \"\"\"\n",
        "You are a product recommendation assistant. Use the user's preferences to suggest Macy’s products from our catalog that align with their interests.\n",
        "\n",
        "[USER_CONTEXT]:\n",
        "\"\"\"\n",
        "prompt2 = \"\"\"\n",
        "[TASK_PROMPT]:\n",
        "\n",
        "Recommend three Macy’s products that match their preferences. For each product, provide a short description of why it’s a good fit, and include any relevant promotions or discounts. The output must be a valid JSON object.\n",
        "\"\"\"\n",
        "user_data = fetch_customer_data_from_db(\"James\", \"james@google.com\")\n",
        "#\n",
        "# Action function ------------------------------------------------------------\n",
        "def action_macy(reply):\n",
        "  # the AI solution architect just want to print it out\n",
        "  # in real app, we pass it to the UI.\n",
        "  print(reply)\n",
        "  #\n",
        "  return"
      ],
      "metadata": {
        "id": "TGcW-aINsbqV"
      },
      "execution_count": 34,
      "outputs": []
    },
    {
      "cell_type": "code",
      "source": [
        "# QA ------------------------------------------------------------\n",
        "agent_loop_openai_v3(user_data, prompt1, prompt2, action_macy)"
      ],
      "metadata": {
        "colab": {
          "base_uri": "https://localhost:8080/"
        },
        "id": "1q0NV7unsbtn",
        "outputId": "faea9e10-071e-47bc-aa97-982a3adb2be0"
      },
      "execution_count": 35,
      "outputs": [
        {
          "output_type": "stream",
          "name": "stdout",
          "text": [
            "{\n",
            "  \"Product1\": {\n",
            "    \"Name\": \"Michael Kors Jet Set Travel Large Chain Shoulder Tote\",\n",
            "    \"Description\": \"This high-end handbag from Michael Kors is a perfect match for your previous purchases. It's a fashionable choice that complements your style. Plus, it's currently on sale with a 20% discount.\",\n",
            "    \"Link\": \"https://www.macys.com/shop/product/michael-kors-jet-set-travel-large-chain-shoulder-tote?ID=4376809&CategoryID=26846\"\n",
            "  },\n",
            "  \"Product2\": {\n",
            "    \"Name\": \"Apple Watch Series 6 (GPS) 44mm\",\n",
            "    \"Description\": \"Given your previous purchase of an iPhone, this Apple Watch Series 6 would be a great addition to your Apple ecosystem. It's a top-of-the-line smartwatch that offers a wide range of features, including fitness tracking and seamless integration with your iPhone. Currently, there's a special promotion offering a $50 Macy's gift card with purchase.\",\n",
            "    \"Link\": \"https://www.macys.com/shop/product/apple-watch-series-6-gps-44mm?ID=11405342&CategoryID=23930\"\n",
            "  },\n",
            "  \"Product3\": {\n",
            "    \"Name\": \"Calvin Klein Women's Gayle Pointed-Toe Pumps\",\n",
            "    \"Description\": \"These Calvin Klein pumps are a classic and versatile addition to any wardrobe. They're perfect for both casual and formal occasions. As a resident of New York City, these shoes will keep you stylish and comfortable. They're currently available with a 15% discount.\",\n",
            "    \"Link\": \"https://www.macys.com/shop/product/calvin-klein-womens-gayle-pointed-toe-pumps?ID=4824939&CategoryID=26481\"\n",
            "  }\n",
            "}\n"
          ]
        }
      ]
    },
    {
      "cell_type": "markdown",
      "source": [
        "# 🌻 Agentic Dymistified\n",
        "\n",
        "\n",
        "---\n",
        "\n",
        "The difference is that an agent follows instructions, while agentic AI makes its own decisions.\n",
        "\n",
        "*Examples:*\n",
        "\n",
        "1. It was Agent AI: A text toxicity moderation app designed to monitor hateful, sexist, violent, and harassing messages in posts.\n",
        "\n",
        "    - Now, we implement Agentic AI: A moderator app for accurately monitoring toxic language using a custom NLP application and an advanced LLM model.\n",
        "\n",
        "1. Agent: A chatbot that answers FAQs from a script.\n",
        "    - Agentic AI: A chatbot that rewrites answers based on your tone and follows up if you’re confused.\n",
        "\n",
        "1. Agent: A calendar assistant that books a meeting when you say the time.\n",
        "    - Agentic AI: A smart assistant that checks everyone’s availability, suggests better times, and reschedules if needed.\n",
        "1. Agent: A translation tool that converts English to French word-for-word.\n",
        "    - Agentic AI: A language coach that adapts translations based on your skill level and points out cultural differences.\n",
        "1. Agent: A voice assistant that turns on lights when you say “lights on.”\n",
        "    - Agentic AI: A home AI that turns on lights automatically when it senses it’s getting dark and you’re home.\n",
        "1. Agent: A script that sends reminders at fixed times.\n",
        "    - Agentic AI: A personal assistant that learns when you usually respond best and adjusts reminders accordingly."
      ],
      "metadata": {
        "id": "psfDBKPQQBRz"
      }
    },
    {
      "cell_type": "code",
      "source": [
        "# cheat, NOT going to database\n",
        "def fetch_customer_data_from_db(name, email):\n",
        "  data = \"\"\"\n",
        "- Age: 35\n",
        "\n",
        "- Gender: Female\n",
        "\n",
        "- Preferred Categories: Fashion, Electronics\n",
        "\n",
        "- Previous Purchases: iPhone, High-End Handbags\n",
        "\n",
        "- Location: New York City\n",
        "\n",
        "  \"\"\"\n",
        "  return data"
      ],
      "metadata": {
        "id": "_F3dk8m7UkgR"
      },
      "execution_count": 25,
      "outputs": []
    },
    {
      "cell_type": "code",
      "source": [],
      "metadata": {
        "id": "TIInlFb3Ukkg"
      },
      "execution_count": null,
      "outputs": []
    }
  ]
}