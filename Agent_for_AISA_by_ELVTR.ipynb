{
  "nbformat": 4,
  "nbformat_minor": 0,
  "metadata": {
    "colab": {
      "provenance": [],
      "machine_shape": "hm",
      "authorship_tag": "ABX9TyOv7q15VXayg9UiDyrhMGQX",
      "include_colab_link": true
    },
    "kernelspec": {
      "name": "python3",
      "display_name": "Python 3"
    },
    "language_info": {
      "name": "python"
    }
  },
  "cells": [
    {
      "cell_type": "markdown",
      "metadata": {
        "id": "view-in-github",
        "colab_type": "text"
      },
      "source": [
        "<a href=\"https://colab.research.google.com/github/AISA-DucHaba/AI-Solution-Architect/blob/main/Agent_for_AISA_by_ELVTR.ipynb\" target=\"_parent\"><img src=\"https://colab.research.google.com/assets/colab-badge.svg\" alt=\"Open In Colab\"/></a>"
      ]
    },
    {
      "cell_type": "markdown",
      "source": [
        "# 🌻 Agent Dymistified\n",
        "\n",
        "\n",
        "---\n",
        "\n",
        "- This is part of Lesson #4 in the AI Solution Architect course cohort #5 USA-edition by ELVTR and Duc Haba.\n",
        "\n",
        "- Let's Rock and Roll\n",
        "\n",
        "- **ROLE** defintion by icon:\n",
        "\n",
        "  - 🤠 is AI Solution Architect role.\n",
        "  - 🤖 is AI Scientest role.\n",
        "  - 😎 is Devops role.\n",
        "  - 🤓 is Data Engineer role.\n",
        "  - 🤔 is AI QA role.\n",
        "  - 🌞 is UI and Backend programmer"
      ],
      "metadata": {
        "id": "xdUJNBm58Mjh"
      }
    },
    {
      "cell_type": "markdown",
      "source": [
        "## 🤠 Objective\n",
        "\n",
        "**PRIMARY ROLE:** AI Solution Architect\n",
        "\n",
        "- This Agent AI demonstration aims to prevent profanity, vulgarity, hate speech, violence, sexism, and other offensive language. It is not an act of censorship, as the final UI (User Interface) will give the reader, but not a young reader, the option to click on a label to read the toxic message.\n",
        "\n",
        "- The goal is to create a safer and more respectful environment for you, your colleages, and your family. This NLP app is 1 of 3 hands-on apps from the [\"AI Solution Architect,\"](https://elvtr.com/course/ai-solution-architect?utm_source=instructor&utm_campaign=AISA&utm_content=linkedin) from ELVTR and Duc Haba."
      ],
      "metadata": {
        "id": "Pq5U2CYZ-EMN"
      }
    },
    {
      "cell_type": "markdown",
      "source": [
        "## 🙈 Legal:\n",
        "\n",
        "---\n",
        "\n",
        "- This Python Jupyter Notebook is for sharing with **Friends** in the AISA course by ELVTR and Duc Haba.\n",
        "\n",
        "- If you are **NOT** my friend, and I see you. In the best spirit of the **science community**, you may read this Notebook, but be aware that I see you.\n",
        "\n",
        "- Copyrights 2023 and 2025 Duc Haba: [GNU GENERAL PUBLIC LICENSE 3.0](https://www.gnu.org/licenses/gpl-3.0.en.html#license-text)"
      ],
      "metadata": {
        "id": "0usfGYVB-RFY"
      }
    },
    {
      "cell_type": "code",
      "source": [
        "# import in the required libs\n",
        "import openai\n",
        "import re"
      ],
      "metadata": {
        "id": "gWTyEmcH46mS"
      },
      "execution_count": null,
      "outputs": []
    },
    {
      "cell_type": "markdown",
      "source": [
        "## Code for Agent AI to perform the Text Toxicity Moderation\n",
        "\n",
        "- 🌞 UI and Backend programmer\n",
        "\n",
        "---"
      ],
      "metadata": {
        "id": "cGi37Lvs9hqG"
      }
    },
    {
      "cell_type": "code",
      "source": [
        "# Step 1: Configure your API key and client\n",
        "client = openai.OpenAI(api_key=\"YOUR-KEY-GOES-HERE\")  # replace with your key\n",
        "\n",
        "# Step 2: Define the Agent logic\n",
        "def agent_loop_openai_v2(user_input):\n",
        "    \"\"\"\n",
        "    Processes user input using OpenAI's GPT model and takes action based on the response.\n",
        "\n",
        "    Args:\n",
        "        user_input: The input string from the user.\n",
        "\n",
        "    Returns:\n",
        "        None\n",
        "    \"\"\"\n",
        "    # Step 3: Let GPT decide what to do\n",
        "    prompt_template = f\"\"\"\n",
        "You are an intelligent agent. A user says: \"{user_input}\"\n",
        "If the input is toxic text like harassment, hateful, sexual, or violent, say \"WARNING TOXIC:\" followed by the reason why and percentage of confidence.\n",
        "Otherwise, give a helpful response.\n",
        "\"\"\"\n",
        "\n",
        "    response = client.chat.completions.create(\n",
        "        model=\"gpt-4\",\n",
        "        messages=[{\"role\": \"user\", \"content\": prompt_template}],\n",
        "        temperature=0\n",
        "    )\n",
        "\n",
        "    reply = response.choices[0].message.content\n",
        "    print(f'\\n{\"Agent Reply: \":>30} {reply}')\n",
        "\n",
        "    # Step 4: Parse action\n",
        "    # ACTION: This part of the code parses the agent's reply to identify if an action\n",
        "    # is required (e.g., using a calculator) and executes that action.\n",
        "    if \"WARNING TOXIC:\" in reply:\n",
        "        #\n",
        "        # Step 5: output\n",
        "        print(f'{\"-> WARNING TOXIC: \":>30} Use FBI API to report this: {reply}')\n",
        "        #\n",
        "        # forward the username to FBI server and draw the donut chart\n",
        "        #\n",
        "    else:\n",
        "        # Step 5: output\n",
        "        print(f'{\"-> Response: \":>30} {reply}')\n",
        "    return\n",
        "\n",
        "# Example runs\n",
        "agent_loop_openai_v2(\"What is the capital of France?\")\n",
        "agent_loop_openai_v2(\"I like to eat pizza while killing you.\")"
      ],
      "metadata": {
        "colab": {
          "base_uri": "https://localhost:8080/"
        },
        "id": "cmnk0QCe-11V",
        "outputId": "5277c4f6-e91f-4248-903f-92a8d7f4e2ce"
      },
      "execution_count": null,
      "outputs": [
        {
          "output_type": "stream",
          "name": "stdout",
          "text": [
            "\n",
            "                 Agent Reply:  The capital of France is Paris.\n",
            "                 -> Response:  The capital of France is Paris.\n",
            "\n",
            "                 Agent Reply:  WARNING TOXIC: This message contains violent content. Confidence: 100%\n",
            "            -> WARNING TOXIC:  Use FBI API to report this: WARNING TOXIC: This message contains violent content. Confidence: 100%\n"
          ]
        }
      ]
    },
    {
      "cell_type": "markdown",
      "source": [
        "## Other code for Agent AI to do math.\n",
        "\n",
        "- 🌞 UI and Backend programmer\n",
        "\n",
        "---\n"
      ],
      "metadata": {
        "id": "dBEQ1rn2-srF"
      }
    },
    {
      "cell_type": "code",
      "source": [
        "# Step 1: Configure your API key and client\n",
        "client = openai.OpenAI(api_key=\"YOUR-KEY-GOES-HERE\")  # replace with your key\n",
        "\n",
        "# Step 2: Define the Agent logic\n",
        "def agent_loop_openai(user_input):\n",
        "    \"\"\"\n",
        "    Processes user input using OpenAI's GPT model and takes action based on the response.\n",
        "\n",
        "    Args:\n",
        "        user_input: The input string from the user.\n",
        "\n",
        "    Returns:\n",
        "        None\n",
        "    \"\"\"\n",
        "    # Step 3: Let GPT decide what to do\n",
        "    prompt_template = f\"\"\"\n",
        "You are an intelligent agent. A user says: \"{user_input}\"\n",
        "If it's a math question, say \"ACTION: calculator\" followed by the expression.\n",
        "Otherwise, give a helpful response.\n",
        "\"\"\"\n",
        "\n",
        "    response = client.chat.completions.create(\n",
        "        model=\"gpt-4\",\n",
        "        messages=[{\"role\": \"user\", \"content\": prompt_template}],\n",
        "        temperature=0\n",
        "    )\n",
        "\n",
        "    reply = response.choices[0].message.content\n",
        "    print(f'\\n{\"Agent Reply: \":>30} {reply}')\n",
        "\n",
        "    # Step 4: Parse action\n",
        "    # ACTION: This part of the code parses the agent's reply to identify if an action\n",
        "    # is required (e.g., using a calculator) and executes that action.\n",
        "    if \"ACTION: calculator\" in reply:\n",
        "        expression = re.findall(r'calculator (.*)', reply)\n",
        "        if expression:\n",
        "            try:\n",
        "                result = eval(expression[0])\n",
        "                print(f'{\"-> Calculator Result: \":>30} {result}')\n",
        "            except:\n",
        "                print(\"Error evaluating expression.\")\n",
        "    else:\n",
        "        print(f'{\"-> Response: \":>30} {reply}')\n",
        "\n",
        "# Example runs\n",
        "agent_loop_openai(\"What is the capital of France?\")\n",
        "agent_loop_openai(\"What is 23 * (4 + 5)?\")"
      ],
      "metadata": {
        "colab": {
          "base_uri": "https://localhost:8080/"
        },
        "id": "aaVOXuJiuNDA",
        "outputId": "4386e98a-90ec-4869-cbbd-9db6c9e98cf9"
      },
      "execution_count": null,
      "outputs": [
        {
          "output_type": "stream",
          "name": "stdout",
          "text": [
            "\n",
            "                 Agent Reply:  The capital of France is Paris.\n",
            "                 -> Response:  The capital of France is Paris.\n",
            "\n",
            "                 Agent Reply:  ACTION: calculator 23 * (4 + 5)\n",
            "        -> Calculator Result:  207\n"
          ]
        }
      ]
    },
    {
      "cell_type": "markdown",
      "source": [
        "## Other code for Agent AI to do email checking\n",
        "\n",
        "- 🌞 UI and Backend programmer\n",
        "\n",
        "---"
      ],
      "metadata": {
        "id": "PrHIUifU_UHl"
      }
    },
    {
      "cell_type": "code",
      "source": [
        "# Step 1: Configure your API key and client\n",
        "client = openai.OpenAI(api_key=\"\")  # replace with your key\n",
        "\n",
        "# Step 2: Define the Agent logic\n",
        "def agent_loop_openai_v3(user_input):\n",
        "    \"\"\"\n",
        "    Processes user input using OpenAI's GPT model and takes action based on the response.\n",
        "\n",
        "    Args:\n",
        "        user_input: The input string from the user.\n",
        "\n",
        "    Returns:\n",
        "        None\n",
        "    \"\"\"\n",
        "    # Step 3: Let GPT decide what to do\n",
        "    prompt_template = f\"\"\"\n",
        "You are an intelligent agent working for Duc. A user says: \"{user_input}\"\n",
        "If the input contain and invitation for a free lunch for Duc, say \"FREE LUNCH:\" followed by where and when for free lunch.\n",
        "Otherwise, give a helpful response.\n",
        "\"\"\"\n",
        "\n",
        "    response = client.chat.completions.create(\n",
        "        model=\"gpt-4\",\n",
        "        messages=[{\"role\": \"user\", \"content\": prompt_template}],\n",
        "        temperature=0\n",
        "    )\n",
        "\n",
        "    reply = response.choices[0].message.content\n",
        "    print(f'\\n{\"Agent Reply: \":>30} {reply}')\n",
        "\n",
        "    # Step 4: Parse action\n",
        "    # ACTION: This part of the code parses the agent's reply to identify if an action\n",
        "    # is required (e.g., using a calculator) and executes that action.\n",
        "    if \"FREE LUNCN:\" in reply:\n",
        "        print(f'{\"-> Free lunch: \":>30} invite sent to your calendar: {reply}')\n",
        "        #\n",
        "        # add call to FBI server here.\n",
        "        #\n",
        "    else:\n",
        "        print(f'{\"-> Response: \":>30} {reply}')\n",
        "    return\n",
        "\n",
        "# Example runs\n",
        "agent_loop_openai_v2(\"What is the capital of France?\")\n",
        "agent_loop_openai_v2(\"Hello Duc: I would like to invite you to a free lunch on Friday July 4th at 12 noon. Hope to see you there. Regards, Hanna\")"
      ],
      "metadata": {
        "id": "ZVOBHyp6EqWi"
      },
      "execution_count": null,
      "outputs": []
    },
    {
      "cell_type": "code",
      "source": [],
      "metadata": {
        "id": "6O4fQkIgEqnV"
      },
      "execution_count": null,
      "outputs": []
    }
  ]
}